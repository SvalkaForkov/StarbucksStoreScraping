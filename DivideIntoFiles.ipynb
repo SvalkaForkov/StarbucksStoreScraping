{
 "cells": [
  {
   "cell_type": "code",
   "execution_count": null,
   "metadata": {
    "collapsed": true
   },
   "outputs": [],
   "source": [
    "import requests\n",
    "import re\n",
    "import os\n",
    "import pandas as pd\n",
    "import json\n",
    "import csv"
   ]
  },
  {
   "cell_type": "code",
   "execution_count": 56,
   "metadata": {
    "collapsed": true
   },
   "outputs": [],
   "source": [
    "#zipcodes in LA\n",
    "folder = os.path.realpath('.') + '/'\n",
    "\n",
    "output_folder = 'Output/'\n",
    "output_path = folder + output_folder\n",
    "\n",
    "csv_path = folder + output_folder + 'In.csv'\n",
    "\n",
    "states_path = output_path + 'States/'\n",
    "divided_path = output_path + 'Divided/'\n",
    "\n",
    "csv_out_path = divided_path + 'Out.csv'"
   ]
  },
  {
   "cell_type": "code",
   "execution_count": 58,
   "metadata": {
    "collapsed": false,
    "tags": []
   },
   "outputs": [
    {
     "output_type": "stream",
     "name": "stdout",
     "text": [
      "Done\n"
     ]
    }
   ],
   "source": [
    "df = pd.read_csv(csv_path, sep=',')\n",
    "\n",
    "state_names = df['state'].unique()\n",
    "\n",
    "states_dict = {j: df[df['state'] == j] for j in state_names }\n",
    "\n",
    "for k, v in states_dict.items():\n",
    "    v.to_csv(states_path + '{}.csv'.format(k))\n",
    "\n",
    "for state in state_names:\n",
    "    state_csv = states_path + '{}.csv'.format(state)\n",
    "    state_df = pd.read_csv(state_csv, sep=',')\n",
    "\n",
    "    city_names = state_df['city'].unique()\n",
    "    cities_dict = {j: df[df['city'] == j] for j in city_names }\n",
    "\n",
    "    for k, v in cities_dict.items():\n",
    "        v.to_csv(divided_path + state + '_' + '{}.csv'.format(k))\n",
    "\n",
    "# state_names\n",
    "\n",
    "# states = data['state'].unique().tolist()\n",
    "\n",
    "# grouped = df.groupby('state')\n",
    "# for name, group in grouped:\n",
    "#     print(group)\n",
    "\n",
    "# for idx, value in enumerate(data['state']):\n",
    "#     if value not in name_ord:\n",
    "#         ame_ord[value] = len(name_ord)\n",
    "#     ordering_list.append((name_ord[value], idx))\n",
    "\n",
    "# grouped_by_state = data.groupby('Sepal.Length')\n",
    "\n",
    "# grouped_by_state.reset_index().to_csv(divided_path + 'byStates.csv', sep=',', header=True, index=False)\n",
    "\n",
    "print('Done')"
   ]
  },
  {
   "cell_type": "code",
   "execution_count": null,
   "metadata": {},
   "outputs": [],
   "source": [
    "# # validating input\n",
    "\n",
    "# num_headers = 7\n",
    "\n",
    "# with open(csv_path, 'r') as file_in, open(csv_out_path, 'w') as file_out:\n",
    "#     csv_in = csv.reader(file_in)\n",
    "#     csv_out = csv.writer(file_out)\n",
    "\n",
    "#     for i, row in enumerate(csv_in, start=1):\n",
    "#         if not [e for e in row if not e.strip()]:\n",
    "#             if len(row) == num_headers:\n",
    "#                 csv_out.writerow(row)\n",
    "\n",
    "#                 if i%10 == 0:\n",
    "#                     print('line %d OK' % i)\n",
    "#         else:\n",
    "#             print('line %d is malformed' % i)"
   ]
  },
  {
   "cell_type": "code",
   "execution_count": null,
   "metadata": {
    "collapsed": true
   },
   "outputs": [],
   "source": [
    "# #construct non-duplicated list of stores\n",
    "# seenStoreIds = []\n",
    "# laStores = []\n",
    "# for store in allStores:\n",
    "#     if store[0] in seenStoreIds:\n",
    "#         continue\n",
    "#     else:\n",
    "#         laStores.append(store)\n",
    "#         seenStoreIds.append(store[0])"
   ]
  },
  {
   "cell_type": "code",
   "execution_count": null,
   "metadata": {
    "collapsed": false
   },
   "outputs": [],
   "source": [
    "# #define columns of csv\n",
    "\n",
    "\n",
    "# dfSbux = pd.DataFrame(columns=['id', 'strLocation', 'latitude', 'longitude', 'city', 'state', 'zip'])\n",
    "\n",
    "# #store data\n",
    "# for i, col in enumerate(dfSbux.columns):\n",
    "#     dfSbux[col] = [item[i] for item in laStores]\n",
    "\n",
    "# #cast the latitude and longitude as floats\n",
    "# dfSbux.latitude = dfSbux.latitude.apply(lambda x: float(x))\n",
    "# dfSbux.longitude = dfSbux.longitude.apply(lambda x: float(x))\n",
    "\n",
    "# #save to csv\n",
    "# dfSbux.to_csv(output_path, index=False)"
   ]
  }
 ],
 "metadata": {
  "kernelspec": {
   "name": "python385jvsc74a57bd0aee8b7b246df8f9039afb4144a1f6fd8d2ca17a180786b69acc140d282b71a49",
   "display_name": "Python 3.8.5 64-bit"
  },
  "language_info": {
   "codemirror_mode": {
    "name": "ipython",
    "version": 2
   },
   "file_extension": ".py",
   "mimetype": "text/x-python",
   "name": "python",
   "nbconvert_exporter": "python",
   "pygments_lexer": "ipython2",
   "version": "3.8.5-final"
  },
  "metadata": {
   "interpreter": {
    "hash": "aee8b7b246df8f9039afb4144a1f6fd8d2ca17a180786b69acc140d282b71a49"
   }
  }
 },
 "nbformat": 4,
 "nbformat_minor": 2
}