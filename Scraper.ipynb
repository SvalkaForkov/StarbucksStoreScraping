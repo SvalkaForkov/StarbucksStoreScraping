{
 "cells": [
  {
   "cell_type": "code",
   "execution_count": 7,
   "metadata": {
    "collapsed": true
   },
   "outputs": [],
   "source": [
    "import requests\n",
    "import re\n",
    "import pandas as pd\n",
    "import folium\n",
    "from shapely.geometry import Point\n",
    "from shapely.geometry.polygon import Polygon\n",
    "import json"
   ]
  },
  {
   "cell_type": "code",
   "execution_count": 8,
   "metadata": {
    "collapsed": true
   },
   "outputs": [],
   "source": [
    "#zipcodes in LA\n",
    "f = open('inputZips.txt', 'r')\n",
    "laZips = [z.replace('\\n','') for z in f.readlines()]"
   ]
  },
  {
   "cell_type": "code",
   "execution_count": 9,
   "metadata": {
    "collapsed": true
   },
   "outputs": [],
   "source": [
    "def processResponse(r):\n",
    "    #parse out each store's info\n",
    "    stores = re.findall(r'\"storeNumber\":.*?\"slug\"', r)\n",
    "    storeInfo = []\n",
    "    for store in stores:\n",
    "        #parse out info about each store\n",
    "        storeInfo.append(list(re.findall(r'\"storeNumber\":\"(.*?)\".*?\"name\":\"(.*?)\".*?\"latitude\":(.*?),.*?\"longitude\":(.*?)}.*?\"city\":\"(.*?)\".*?\"countrySubdivisionCode\":\"(.*?)\".*?\"postalCode\":\"(.*?)\"', store)[0]))\n",
    "    return storeInfo"
   ]
  },
  {
   "cell_type": "code",
   "execution_count": 10,
   "metadata": {
    "collapsed": false
   },
   "outputs": [
    {
     "output_type": "stream",
     "name": "stdout",
     "text": [
      "0 / 1\n"
     ]
    }
   ],
   "source": [
    "allStores = []\n",
    "for idx,z in enumerate(laZips):\n",
    "    if idx%10 == 0:\n",
    "        print(idx,'/',len(laZips))\n",
    "    #search for 100 stores centered in given zip\n",
    "    r = requests.get('https://www.starbucks.com/store-locator?map=34.216464,-118.656046,11z&place='+z)\n",
    "    if r.status_code != 200:\n",
    "        raise SystemExit\n",
    "    storeInfoList = processResponse(r.text)\n",
    "    for storeInfo in storeInfoList:\n",
    "        storeInfo[6] = storeInfo[6][:5]\n",
    "    allStores += storeInfoList"
   ]
  },
  {
   "cell_type": "code",
   "execution_count": 11,
   "metadata": {
    "collapsed": true
   },
   "outputs": [],
   "source": [
    "#construct non-duplicated list of stores\n",
    "seenStoreIds = []\n",
    "laStores = []\n",
    "for store in allStores:\n",
    "    if store[0] in seenStoreIds:\n",
    "        continue\n",
    "    else:\n",
    "        laStores.append(store)\n",
    "        seenStoreIds.append(store[0])"
   ]
  },
  {
   "cell_type": "code",
   "execution_count": 12,
   "metadata": {
    "collapsed": false
   },
   "outputs": [],
   "source": [
    "#define columns of csv\n",
    "dfSbux = pd.DataFrame(columns=['id', 'strLocation', 'latitude', 'longitude', 'city', 'state', 'zip'])\n",
    "\n",
    "#store data\n",
    "for i,col in enumerate(dfSbux.columns):\n",
    "    dfSbux[col] = [item[i] for item in laStores]\n",
    "\n",
    "#cast the latitude and longitude as floats\n",
    "dfSbux.latitude = dfSbux.latitude.apply(lambda x: float(x))\n",
    "dfSbux.longitude = dfSbux.longitude.apply(lambda x: float(x))\n",
    "\n",
    "#save to csv\n",
    "dfSbux.to_csv('starbucksInUS.csv', index=False)"
   ]
  },
  {
   "cell_type": "code",
   "execution_count": 13,
   "metadata": {
    "collapsed": true
   },
   "outputs": [],
   "source": [
    "# dfSbux = pd.DataFrame(columns=['id', 'strLocation', 'latitude', 'longitude', 'city', 'state', 'zip'])\n",
    "# for i,col in enumerate(dfSbux.columns):\n",
    "#     dfSbux[col] = [item[i] for item in keepLAStores]"
   ]
  },
  {
   "cell_type": "code",
   "execution_count": 14,
   "metadata": {
    "collapsed": true
   },
   "outputs": [],
   "source": [
    "# dfSbux.latitude = dfSbux.latitude.apply(lambda x: float(x))\n",
    "# dfSbux.longitude = dfSbux.longitude.apply(lambda x: float(x))"
   ]
  },
  {
   "cell_type": "code",
   "execution_count": 15,
   "metadata": {
    "collapsed": false
   },
   "outputs": [],
   "source": [
    "# laMap = folium.Map(location=[34.0522,-118.2437], tiles='Stamen Toner', zoom_start=10)\n",
    "# for i,row in dfSbux.iterrows():\n",
    "#     folium.CircleMarker((row.latitude,row.longitude), radius=3, weight=2, fill_color='red', fill_opacity=.9).add_to(laMap)"
   ]
  },
  {
   "cell_type": "code",
   "execution_count": 16,
   "metadata": {
    "collapsed": false
   },
   "outputs": [],
   "source": [
    "# folium.GeoJson(laArea).add_to(laMap)"
   ]
  },
  {
   "cell_type": "code",
   "execution_count": null,
   "metadata": {
    "collapsed": true
   },
   "outputs": [],
   "source": []
  }
 ],
 "metadata": {
  "kernelspec": {
   "name": "python3",
   "display_name": "Python 3.8.5 64-bit",
   "metadata": {
    "interpreter": {
     "hash": "1ee38ef4a5a9feb55287fd749643f13d043cb0a7addaab2a9c224cbe137c0062"
    }
   }
  },
  "language_info": {
   "codemirror_mode": {
    "name": "ipython",
    "version": 2
   },
   "file_extension": ".py",
   "mimetype": "text/x-python",
   "name": "python",
   "nbconvert_exporter": "python",
   "pygments_lexer": "ipython2",
   "version": "3.8.5-final"
  }
 },
 "nbformat": 4,
 "nbformat_minor": 2
}