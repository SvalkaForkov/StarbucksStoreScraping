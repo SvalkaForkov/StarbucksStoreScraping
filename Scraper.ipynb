{
 "cells": [
  {
   "cell_type": "code",
   "execution_count": 37,
   "metadata": {
    "collapsed": true
   },
   "outputs": [],
   "source": [
    "import requests\n",
    "import re\n",
    "import os\n",
    "import pandas as pd\n",
    "import folium\n",
    "from shapely.geometry import Point\n",
    "from shapely.geometry.polygon import Polygon\n",
    "import json"
   ]
  },
  {
   "cell_type": "code",
   "execution_count": 38,
   "metadata": {
    "collapsed": true
   },
   "outputs": [],
   "source": [
    "#zipcodes in LA\n",
    "f = open('inputZips.txt', 'r')\n",
    "allZips = [z.replace('\\n','') for z in f.readlines()]\n",
    "folder_name = '/raw'"
   ]
  },
  {
   "cell_type": "code",
   "execution_count": 39,
   "metadata": {
    "collapsed": true
   },
   "outputs": [],
   "source": [
    "def saveAndProcessResponse(idx, r):\n",
    "    #parse out each store's info\n",
    "    stores = re.findall(r'\"storeNumber\":.*?\"slug\"', r)\n",
    "    file_name = str(idx) + \".txt\"\n",
    "    current_directory = os.path.realpath('.') + folder_name\n",
    "    file_path = os.path.join(current_directory, file_name)\n",
    "    f = open(file_path, \"w+\")\n",
    "    f.write(stores)\n",
    "    storeInfo = []\n",
    "    for store in stores:\n",
    "        #parse out info about each store\n",
    "        storeInfo.append(list(re.findall(r'\"storeNumber\":\"(.*?)\".*?\"name\":\"(.*?)\".*?\"latitude\":(.*?),.*?\"longitude\":(.*?)}.*?\"city\":\"(.*?)\".*?\"countrySubdivisionCode\":\"(.*?)\".*?\"postalCode\":\"(.*?)\"', store)[0]))\n",
    "    return storeInfo"
   ]
  },
  {
   "cell_type": "code",
   "execution_count": 40,
   "metadata": {},
   "outputs": [],
   "source": [
    "# def saveAndProcessResponse(r):"
   ]
  },
  {
   "cell_type": "code",
   "execution_count": 41,
   "metadata": {},
   "outputs": [],
   "source": [
    "def appendResponseData(idx,r):\n",
    "    print(idx)"
   ]
  },
  {
   "cell_type": "code",
   "execution_count": 42,
   "metadata": {
    "collapsed": false
   },
   "outputs": [
    {
     "output_type": "stream",
     "name": "stdout",
     "text": [
      "0 / 1\n",
      "/Users/user/Documents/xcode/StarbucksStoreScraping/raw\n",
      "/raw\n"
     ]
    },
    {
     "output_type": "error",
     "ename": "FileNotFoundError",
     "evalue": "[Errno 2] No such file or directory: '/raw/0.txt'",
     "traceback": [
      "\u001b[0;31m---------------------------------------------------------------------------\u001b[0m",
      "\u001b[0;31mFileNotFoundError\u001b[0m                         Traceback (most recent call last)",
      "\u001b[0;32m<ipython-input-42-a99d488ffa92>\u001b[0m in \u001b[0;36m<module>\u001b[0;34m\u001b[0m\n\u001b[1;32m     16\u001b[0m         \u001b[0;32mcontinue\u001b[0m\u001b[0;34m\u001b[0m\u001b[0;34m\u001b[0m\u001b[0m\n\u001b[1;32m     17\u001b[0m         \u001b[0;31m# raise SystemExit\u001b[0m\u001b[0;34m\u001b[0m\u001b[0;34m\u001b[0m\u001b[0;34m\u001b[0m\u001b[0m\n\u001b[0;32m---> 18\u001b[0;31m     \u001b[0mstoreInfoList\u001b[0m \u001b[0;34m=\u001b[0m \u001b[0msaveAndProcessResponse\u001b[0m\u001b[0;34m(\u001b[0m\u001b[0midx\u001b[0m\u001b[0;34m,\u001b[0m \u001b[0mr\u001b[0m\u001b[0;34m.\u001b[0m\u001b[0mtext\u001b[0m\u001b[0;34m)\u001b[0m\u001b[0;34m\u001b[0m\u001b[0;34m\u001b[0m\u001b[0m\n\u001b[0m\u001b[1;32m     19\u001b[0m     \u001b[0;31m# appendResponseData(storeInfoList)\u001b[0m\u001b[0;34m\u001b[0m\u001b[0;34m\u001b[0m\u001b[0;34m\u001b[0m\u001b[0m\n\u001b[1;32m     20\u001b[0m     \u001b[0;31m# allStores += storeInfoList\u001b[0m\u001b[0;34m\u001b[0m\u001b[0;34m\u001b[0m\u001b[0;34m\u001b[0m\u001b[0m\n",
      "\u001b[0;32m<ipython-input-39-4d653a2f4e2f>\u001b[0m in \u001b[0;36msaveAndProcessResponse\u001b[0;34m(idx, r)\u001b[0m\n\u001b[1;32m      8\u001b[0m     \u001b[0mprint\u001b[0m\u001b[0;34m(\u001b[0m\u001b[0mfolder_path\u001b[0m\u001b[0;34m)\u001b[0m\u001b[0;34m\u001b[0m\u001b[0;34m\u001b[0m\u001b[0m\n\u001b[1;32m      9\u001b[0m     \u001b[0mfile_path\u001b[0m \u001b[0;34m=\u001b[0m \u001b[0mos\u001b[0m\u001b[0;34m.\u001b[0m\u001b[0mpath\u001b[0m\u001b[0;34m.\u001b[0m\u001b[0mjoin\u001b[0m\u001b[0;34m(\u001b[0m\u001b[0mfolder_path\u001b[0m\u001b[0;34m,\u001b[0m \u001b[0mfile_name\u001b[0m\u001b[0;34m)\u001b[0m\u001b[0;34m\u001b[0m\u001b[0;34m\u001b[0m\u001b[0m\n\u001b[0;32m---> 10\u001b[0;31m     \u001b[0mf\u001b[0m \u001b[0;34m=\u001b[0m \u001b[0mopen\u001b[0m\u001b[0;34m(\u001b[0m\u001b[0mfile_path\u001b[0m\u001b[0;34m,\u001b[0m \u001b[0;34m\"w+\"\u001b[0m\u001b[0;34m)\u001b[0m\u001b[0;34m\u001b[0m\u001b[0;34m\u001b[0m\u001b[0m\n\u001b[0m\u001b[1;32m     11\u001b[0m     \u001b[0mf\u001b[0m\u001b[0;34m.\u001b[0m\u001b[0mwrite\u001b[0m\u001b[0;34m(\u001b[0m\u001b[0mstores\u001b[0m\u001b[0;34m)\u001b[0m\u001b[0;34m\u001b[0m\u001b[0;34m\u001b[0m\u001b[0m\n\u001b[1;32m     12\u001b[0m     \u001b[0mstoreInfo\u001b[0m \u001b[0;34m=\u001b[0m \u001b[0;34m[\u001b[0m\u001b[0;34m]\u001b[0m\u001b[0;34m\u001b[0m\u001b[0;34m\u001b[0m\u001b[0m\n",
      "\u001b[0;31mFileNotFoundError\u001b[0m: [Errno 2] No such file or directory: '/raw/0.txt'"
     ]
    }
   ],
   "source": [
    "allStores = []\n",
    "for idx,nonSplitLine in enumerate(allZips):\n",
    "    line = nonSplitLine.split(\",\")\n",
    "    if idx%10 == 0:\n",
    "        print(idx,'/',len(allZips))\n",
    "    #search for 100 stores centered in given zip\n",
    "    # r = requests.get('https://www.starbucks.com/store-locator?map=34.216464,-118.656046,11z&place='+z)\n",
    "    # 1923,Danvers,Massachusetts,MA,Essex,42.5694,-70.9425\n",
    "    post = line[0]\n",
    "    lat = line[1]\n",
    "    lon = line[2]\n",
    "    # urlll = 'https://www.starbucks.com/store-locator?map='+lat+','+lon+'z&place='+post\n",
    "    urlll = 'https://www.starbucks.com/store-locator?map='+lat+','+lon+',11z'\n",
    "    r = requests.get(urlll)\n",
    "    if r.status_code != 200:\n",
    "        continue\n",
    "        # raise SystemExit\n",
    "    storeInfoList = saveAndProcessResponse(idx, r.text)\n",
    "    # appendResponseData(storeInfoList)\n",
    "    # allStores += storeInfoList\n",
    "    # storeInfoList = processResponse(r.text)\n",
    "    # for storeInfo in storeInfoList:\n",
    "    #     storeInfo[6] = storeInfo[6][:5]\n",
    "    # allStores += storeInfoList"
   ]
  },
  {
   "cell_type": "code",
   "execution_count": null,
   "metadata": {
    "collapsed": true
   },
   "outputs": [],
   "source": [
    "#construct non-duplicated list of stores\n",
    "allStores = []\n",
    "seenStoreIds = []\n",
    "laStores = []\n",
    "for store in allStores:\n",
    "    if store[0] in seenStoreIds:\n",
    "        continue\n",
    "    else:\n",
    "        laStores.append(store)\n",
    "        seenStoreIds.append(store[0])"
   ]
  },
  {
   "cell_type": "code",
   "execution_count": null,
   "metadata": {
    "collapsed": false
   },
   "outputs": [],
   "source": [
    "#define columns of csv\n",
    "dfSbux = pd.DataFrame(columns=['id', 'strLocation', 'latitude', 'longitude', 'city', 'state', 'zip'])\n",
    "\n",
    "#store data\n",
    "for i,col in enumerate(dfSbux.columns):\n",
    "    dfSbux[col] = [item[i] for item in laStores]\n",
    "\n",
    "#cast the latitude and longitude as floats\n",
    "dfSbux.latitude = dfSbux.latitude.apply(lambda x: float(x))\n",
    "dfSbux.longitude = dfSbux.longitude.apply(lambda x: float(x))\n",
    "\n",
    "#save to csv\n",
    "dfSbux.to_csv('starbucksInUS.csv', index=False)"
   ]
  },
  {
   "cell_type": "code",
   "execution_count": null,
   "metadata": {
    "collapsed": true
   },
   "outputs": [],
   "source": [
    "# dfSbux = pd.DataFrame(columns=['id', 'strLocation', 'latitude', 'longitude', 'city', 'state', 'zip'])\n",
    "# for i,col in enumerate(dfSbux.columns):\n",
    "#     dfSbux[col] = [item[i] for item in keepLAStores]"
   ]
  },
  {
   "cell_type": "code",
   "execution_count": null,
   "metadata": {
    "collapsed": true
   },
   "outputs": [],
   "source": [
    "# dfSbux.latitude = dfSbux.latitude.apply(lambda x: float(x))\n",
    "# dfSbux.longitude = dfSbux.longitude.apply(lambda x: float(x))"
   ]
  },
  {
   "cell_type": "code",
   "execution_count": null,
   "metadata": {
    "collapsed": false
   },
   "outputs": [],
   "source": [
    "# laMap = folium.Map(location=[34.0522,-118.2437], tiles='Stamen Toner', zoom_start=10)\n",
    "# for i,row in dfSbux.iterrows():\n",
    "#     folium.CircleMarker((row.latitude,row.longitude), radius=3, weight=2, fill_color='red', fill_opacity=.9).add_to(laMap)"
   ]
  },
  {
   "cell_type": "code",
   "execution_count": null,
   "metadata": {
    "collapsed": false
   },
   "outputs": [],
   "source": [
    "# folium.GeoJson(laArea).add_to(laMap)"
   ]
  },
  {
   "cell_type": "code",
   "execution_count": null,
   "metadata": {
    "collapsed": true
   },
   "outputs": [],
   "source": []
  }
 ],
 "metadata": {
  "kernelspec": {
   "name": "python3",
   "display_name": "Python 3.8.5 64-bit",
   "metadata": {
    "interpreter": {
     "hash": "1ee38ef4a5a9feb55287fd749643f13d043cb0a7addaab2a9c224cbe137c0062"
    }
   }
  },
  "language_info": {
   "codemirror_mode": {
    "name": "ipython",
    "version": 2
   },
   "file_extension": ".py",
   "mimetype": "text/x-python",
   "name": "python",
   "nbconvert_exporter": "python",
   "pygments_lexer": "ipython2",
   "version": "3.8.5-final"
  }
 },
 "nbformat": 4,
 "nbformat_minor": 2
}