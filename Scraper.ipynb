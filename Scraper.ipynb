{
 "cells": [
  {
   "cell_type": "code",
   "execution_count": 42,
   "metadata": {
    "collapsed": true
   },
   "outputs": [],
   "source": [
    "import requests\n",
    "import re\n",
    "import pandas as pd\n",
    "import folium\n",
    "from shapely.geometry import Point\n",
    "from shapely.geometry.polygon import Polygon\n",
    "import json"
   ]
  },
  {
   "cell_type": "code",
   "execution_count": 43,
   "metadata": {
    "collapsed": true
   },
   "outputs": [],
   "source": [
    "#zipcodes in LA\n",
    "f = open('inputZips.txt', 'r')\n",
    "allZips = [z.replace('\\n','') for z in f.readlines()]"
   ]
  },
  {
   "cell_type": "code",
   "execution_count": 44,
   "metadata": {
    "collapsed": true
   },
   "outputs": [],
   "source": [
    "def processResponse(r):\n",
    "    #parse out each store's info\n",
    "    stores = re.findall(r'\"storeNumber\":.*?\"slug\"', r)\n",
    "    storeInfo = []\n",
    "    for store in stores:\n",
    "        #parse out info about each store\n",
    "        storeInfo.append(list(re.findall(r'\"storeNumber\":\"(.*?)\".*?\"name\":\"(.*?)\".*?\"latitude\":(.*?),.*?\"longitude\":(.*?)}.*?\"city\":\"(.*?)\".*?\"countrySubdivisionCode\":\"(.*?)\".*?\"postalCode\":\"(.*?)\"', store)[0]))\n",
    "    return storeInfo"
   ]
  },
  {
   "cell_type": "code",
   "execution_count": 45,
   "metadata": {
    "collapsed": false
   },
   "outputs": [
    {
     "output_type": "stream",
     "name": "stdout",
     "text": [
      "['501', '40.8154', '-73.0451', 'Holtsville', 'New York', 'NY', 'Suffolk']\n",
      "0 / 5\n",
      "https://www.starbucks.com/store-locator?map=40.8154,-73.0451z&place=501\n",
      "['544', '40.8154', '-73.0451', 'Holtsville', 'New York', 'NY', 'Suffolk']\n",
      "https://www.starbucks.com/store-locator?map=40.8154,-73.0451z&place=544\n",
      "['1001', '42.0702', '-72.6227', 'Agawam', 'Massachusetts', 'MA', 'Hampden']\n",
      "https://www.starbucks.com/store-locator?map=42.0702,-72.6227z&place=1001\n",
      "['1002', '42.3671', '-72.4646', 'Amherst', 'Massachusetts', 'MA', 'Hampshire']\n",
      "https://www.starbucks.com/store-locator?map=42.3671,-72.4646z&place=1002\n",
      "['1003', '42.3919', '-72.5248', 'Amherst', 'Massachusetts', 'MA', 'Hampshire']\n",
      "https://www.starbucks.com/store-locator?map=42.3919,-72.5248z&place=1003\n"
     ]
    }
   ],
   "source": [
    "allStores = []\n",
    "for idx,nonSplitLine in enumerate(allZips):\n",
    "    line = nonSplitLine.split(\",\")\n",
    "    if idx%10 == 0:\n",
    "        print(idx,'/',len(allZips))\n",
    "    #search for 100 stores centered in given zip\n",
    "    # r = requests.get('https://www.starbucks.com/store-locator?map=34.216464,-118.656046,11z&place='+z)\n",
    "    # 1923,Danvers,Massachusetts,MA,Essex,42.5694,-70.9425\n",
    "    post = line[0]\n",
    "    lat = line[1]\n",
    "    lon = line[2]\n",
    "    urlll = 'https://www.starbucks.com/store-locator?map='+lat+','+lon+'z&place='+post\n",
    "    r = requests.get(urlll)\n",
    "    if r.status_code != 200:\n",
    "        raise SystemExit\n",
    "    storeInfoList = processResponse(r.text)\n",
    "    for storeInfo in storeInfoList:\n",
    "        storeInfo[6] = storeInfo[6][:5]\n",
    "    allStores += storeInfoList"
   ]
  },
  {
   "cell_type": "code",
   "execution_count": 46,
   "metadata": {
    "collapsed": true
   },
   "outputs": [],
   "source": [
    "#construct non-duplicated list of stores\n",
    "seenStoreIds = []\n",
    "laStores = []\n",
    "for store in allStores:\n",
    "    if store[0] in seenStoreIds:\n",
    "        continue\n",
    "    else:\n",
    "        laStores.append(store)\n",
    "        seenStoreIds.append(store[0])"
   ]
  },
  {
   "cell_type": "code",
   "execution_count": 47,
   "metadata": {
    "collapsed": false
   },
   "outputs": [],
   "source": [
    "#define columns of csv\n",
    "dfSbux = pd.DataFrame(columns=['id', 'strLocation', 'latitude', 'longitude', 'city', 'state', 'zip'])\n",
    "\n",
    "#store data\n",
    "for i,col in enumerate(dfSbux.columns):\n",
    "    dfSbux[col] = [item[i] for item in laStores]\n",
    "\n",
    "#cast the latitude and longitude as floats\n",
    "dfSbux.latitude = dfSbux.latitude.apply(lambda x: float(x))\n",
    "dfSbux.longitude = dfSbux.longitude.apply(lambda x: float(x))\n",
    "\n",
    "#save to csv\n",
    "dfSbux.to_csv('starbucksInUS.csv', index=False)"
   ]
  },
  {
   "cell_type": "code",
   "execution_count": 48,
   "metadata": {
    "collapsed": true
   },
   "outputs": [],
   "source": [
    "# dfSbux = pd.DataFrame(columns=['id', 'strLocation', 'latitude', 'longitude', 'city', 'state', 'zip'])\n",
    "# for i,col in enumerate(dfSbux.columns):\n",
    "#     dfSbux[col] = [item[i] for item in keepLAStores]"
   ]
  },
  {
   "cell_type": "code",
   "execution_count": 49,
   "metadata": {
    "collapsed": true
   },
   "outputs": [],
   "source": [
    "# dfSbux.latitude = dfSbux.latitude.apply(lambda x: float(x))\n",
    "# dfSbux.longitude = dfSbux.longitude.apply(lambda x: float(x))"
   ]
  },
  {
   "cell_type": "code",
   "execution_count": 50,
   "metadata": {
    "collapsed": false
   },
   "outputs": [],
   "source": [
    "# laMap = folium.Map(location=[34.0522,-118.2437], tiles='Stamen Toner', zoom_start=10)\n",
    "# for i,row in dfSbux.iterrows():\n",
    "#     folium.CircleMarker((row.latitude,row.longitude), radius=3, weight=2, fill_color='red', fill_opacity=.9).add_to(laMap)"
   ]
  },
  {
   "cell_type": "code",
   "execution_count": 51,
   "metadata": {
    "collapsed": false
   },
   "outputs": [],
   "source": [
    "# folium.GeoJson(laArea).add_to(laMap)"
   ]
  },
  {
   "cell_type": "code",
   "execution_count": null,
   "metadata": {
    "collapsed": true
   },
   "outputs": [],
   "source": []
  }
 ],
 "metadata": {
  "kernelspec": {
   "name": "python3",
   "display_name": "Python 3.8.5 64-bit",
   "metadata": {
    "interpreter": {
     "hash": "1ee38ef4a5a9feb55287fd749643f13d043cb0a7addaab2a9c224cbe137c0062"
    }
   }
  },
  "language_info": {
   "codemirror_mode": {
    "name": "ipython",
    "version": 2
   },
   "file_extension": ".py",
   "mimetype": "text/x-python",
   "name": "python",
   "nbconvert_exporter": "python",
   "pygments_lexer": "ipython2",
   "version": "3.8.5-final"
  }
 },
 "nbformat": 4,
 "nbformat_minor": 2
}